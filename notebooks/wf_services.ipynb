{
 "cells": [
  {
   "attachments": {},
   "cell_type": "markdown",
   "metadata": {},
   "source": [
    "# WF"
   ]
  },
  {
   "cell_type": "code",
   "execution_count": 34,
   "metadata": {},
   "outputs": [
    {
     "name": "stderr",
     "output_type": "stream",
     "text": [
      "2024-07-12 15:44:23,672 geoapp INFO: Testing logging\n"
     ]
    }
   ],
   "source": [
    "%reload_ext autoreload\n",
    "%autoreload 2\n",
    "import colabexts\n",
    "from colabexts.jcommon import *\n",
    "import xmltodict\n",
    "import colabexts.utils as colabexts_utils\n",
    "\n",
    "\n",
    "import os, sys, datetime, re, json, importlib\n",
    "from collections import defaultdict\n",
    "from sys import modules\n",
    "from IPython.display import HTML, Javascript\n",
    "import warnings\n",
    "import pandas as pd\n",
    "warnings.filterwarnings('ignore')\n",
    "\n",
    "%matplotlib inline\n",
    "pd.set_option('display.max_colwidth', 40)\n",
    "pd.set_option('display.max_rows', 16)\n",
    "\n",
    "import logging\n",
    "for handler in logging.root.handlers[:]: logging.root.removeHandler(handler)\n",
    "logging.basicConfig( level=logging.INFO,\n",
    "        format='%(asctime)s %(name)s %(levelname)s: %(message)s',\n",
    "        #handlers=[ logging.FileHandler(\"/tmp/stream.log\"), logging.StreamHandler()],\n",
    "        handlers=[ logging.StreamHandler()],\n",
    ")\n",
    "logger = logging.getLogger( \"geoapp\" )\n",
    "logger.info( f\"Testing logging\" )"
   ]
  },
  {
   "attachments": {},
   "cell_type": "markdown",
   "metadata": {},
   "source": [
    "# WF_services"
   ]
  },
  {
   "cell_type": "code",
   "execution_count": 49,
   "metadata": {
    "code_folding": [
     58,
     76
    ],
    "scrolled": false
   },
   "outputs": [
    {
     "name": "stdout",
     "output_type": "stream",
     "text": [
      "Warning: Duplicate registration: /wf/save_wf \n",
      "Warning: Duplicate registration: /wf/get_wf \n",
      "Warning: Duplicate registration: /wf/delete_wf \n",
      "Warning: Duplicate registration: /wf/getall_wfs \n",
      "Warning: Duplicate registration: /wf/run_wf \n"
     ]
    }
   ],
   "source": [
    "%%writefile ../wf_services.py\n",
    "#!/usr/bin/env python \n",
    "\n",
    "#*** DO NOT EDIT - GENERATED FROM tseries/notebooks/tseries_services.ipynb ****\n",
    "\n",
    "import sys, os,  glob, logging, datetime, json\n",
    "from  mangorest.mango import webapi\n",
    "from colabexts import utils as colabexts_utils\n",
    "import pandas as pd\n",
    "import xmltodict\n",
    "import colabexts.utils as colabexts_utils\n",
    "\n",
    "sys.path.append(\"../..\")\n",
    "\n",
    "MBASE  = \"/opt/data/data/workflows/\"\n",
    "logger = logging.getLogger( \"geoapp\" )\n",
    "\n",
    "#---------------------------------------------------------------------------------    \n",
    "@webapi(\"/wf/save_wf\")\n",
    "def save_wf( name, jsn, xml, **kwargs):\n",
    "    name = name or \"default\"\n",
    "    if (name.endswith(\".json\")):  name = name[:-5]\n",
    "    if (name.endswith(\".xml\")):   name = name[:-4]\n",
    "        \n",
    "    if not os.path.exists(MBASE ):\n",
    "        os.makedirs(MBASE)\n",
    "    \n",
    "    with open(f\"{MBASE}/{name}.xml\",  \"w\") as f:   f.write(xml.strip())\n",
    "    if ( len(jsn) < 30 ):\n",
    "        jsn = xmltodict.parse(xml,attr_prefix='', cdata_key='#text')\n",
    "        jsn = json.dumps(jsn, indent=4)\n",
    "\n",
    "    with open(f\"{MBASE}/{name}.json\", \"w\") as f:   f.write(jsn.strip())\n",
    "\n",
    "    return f\"Saved \"    \n",
    "#---------------------------------------------------------------------------------    \n",
    "@webapi(\"/wf/get_wf\")\n",
    "def get_wf( name, **kwargs):\n",
    "    if (name.endswith(\".json\")):  name = name[:-5]\n",
    "    if (name.endswith(\".xml\")):   name = name[:-4]\n",
    "\n",
    "    xml = open(f\"{MBASE}/{name}.xml\",  \"r\").read()\n",
    "    ret = dict(json=\"\", xml=xml)\n",
    "\n",
    "    return ret  \n",
    "#------------------------------------------------------------------------------\n",
    "@webapi(\"/wf/delete_wf\")\n",
    "def delete_wf(name=\"\", **kwargs):\n",
    "    if (name.endswith(\".json\")):  name = name[:-5]\n",
    "    if (name.endswith(\".xml\")):   name = name[:-4]\n",
    "\n",
    "    logger.info(f\"DELETE {name}\")\n",
    "    \n",
    "    dst = f\"{MBASE}/{name}.xml\"\n",
    "    if ( os.path.exists(dst) ):  os.remove(dst)\n",
    "\n",
    "    dst = f\"{MBASE}/{name}.json\"\n",
    "    if ( os.path.exists(dst) ):  os.remove(dst)\n",
    "\n",
    "    return f\"Deleted {dst}.\"\n",
    "#------------------------------------------------------------------------------\n",
    "@webapi(\"/wf/getall_wfs\")\n",
    "def getAllWorkflows( nrows=10000, patt='*.xml', **kwargs):\n",
    "    \n",
    "    files = glob.glob(f\"{MBASE}{patt}\")\n",
    "    files.sort(key=os.path.getmtime, reverse=True)\n",
    "\n",
    "    ret = {\n",
    "        \"name\": \"workflows\",\n",
    "        \"columns\": [\"name\"],\n",
    "        \"values\": [[f[len(MBASE):]] for f in files][0:nrows]\n",
    "    }\n",
    "    return ret\n",
    "#---------------------------------------------------------------------------------    \n",
    "@webapi(\"/wf/run_wf\")\n",
    "def run_wf( name, **kwargs):\n",
    "    if (name.endswith(\".json\")):  name = name[:-5]\n",
    "    if (name.endswith(\".xml\")):   name = name[:-4]\n",
    "\n",
    "    wfdef  = f\"/opt/data/data/workflows/{name}.xml\"\n",
    "    buf=open(wfdef,\"r\").read()\n",
    "    wf = xmltodict.parse(buf,attr_prefix='', cdata_key='#text')\n",
    "\n",
    "\n",
    "    wfsh=\"#Execute\\n\"\n",
    "    for c in wf['mxGraphModel']['root']['mxCell']:\n",
    "        w = colabexts_utils.Map(c)\n",
    "        s = w.text or \"\"\n",
    "        wfsh += f\"#Processing ID: {w.id}, Value: {w.value} => Cmd: {s}\\n\"\n",
    "        if (not s):\n",
    "            continue\n",
    "        wfsh += f\"{s}\\n\"\n",
    "\n",
    "    open(\"/tmp/run.sh\",\"w\").write(wfsh)\n",
    "\n",
    "    return f\"Running /tmp/run.sh {wfsh} \""
   ]
  },
  {
   "cell_type": "code",
   "execution_count": 50,
   "metadata": {},
   "outputs": [
    {
     "data": {
      "text/plain": [
       "'Running /tmp/run.sh #Execute\\n#Processing ID: 0, Value: None => Cmd: \\n#Processing ID: 1, Value: None => Cmd: \\n#Processing ID: 2, Value: Start => Cmd: \\n#Processing ID: 3, Value: Process Data! => Cmd: \\n#Processing ID: 4, Value: Build Model! => Cmd: \\n#Processing ID: 5, Value: Send Email! OK => Cmd: SADANNADA\\nSADANNADA\\n#Processing ID: 6, Value:  => Cmd: \\n#Processing ID: 7, Value:  => Cmd: \\n#Processing ID: 8, Value:  => Cmd: \\n#Processing ID: 9, Value: None => Cmd: \\n#Processing ID: 10, Value: None => Cmd: \\n#Processing ID: 11, Value: System Admin => Cmd: Validate and Verify\\xa0Is Approved?SADA\\nValidate and Verify\\xa0Is Approved?SADA\\n#Processing ID: 12, Value:  => Cmd: \\n#Processing ID: 13, Value: S => Cmd: START\\nSTART\\n#Processing ID: 14, Value: None => Cmd: \\n '"
      ]
     },
     "execution_count": 50,
     "metadata": {},
     "output_type": "execute_result"
    }
   ],
   "source": [
    "run_wf(\"sada\")"
   ]
  },
  {
   "cell_type": "code",
   "execution_count": null,
   "metadata": {},
   "outputs": [],
   "source": [
    "\n"
   ]
  },
  {
   "cell_type": "code",
   "execution_count": null,
   "metadata": {},
   "outputs": [],
   "source": []
  }
 ],
 "metadata": {
  "hide_input": false,
  "kernelspec": {
   "display_name": "Python 3 (ipykernel)",
   "language": "python",
   "name": "python3"
  },
  "language_info": {
   "codemirror_mode": {
    "name": "ipython",
    "version": 3
   },
   "file_extension": ".py",
   "mimetype": "text/x-python",
   "name": "python",
   "nbconvert_exporter": "python",
   "pygments_lexer": "ipython3",
   "version": "3.11.9"
  },
  "toc": {
   "base_numbering": 1,
   "nav_menu": {},
   "number_sections": true,
   "sideBar": true,
   "skip_h1_title": false,
   "title_cell": "Table of Contents",
   "title_sidebar": "Contents",
   "toc_cell": false,
   "toc_position": {},
   "toc_section_display": true,
   "toc_window_display": false
  },
  "varInspector": {
   "cols": {
    "lenName": 16,
    "lenType": 16,
    "lenVar": 40
   },
   "kernels_config": {
    "python": {
     "delete_cmd_postfix": "",
     "delete_cmd_prefix": "del ",
     "library": "var_list.py",
     "varRefreshCmd": "print(var_dic_list())"
    },
    "r": {
     "delete_cmd_postfix": ") ",
     "delete_cmd_prefix": "rm(",
     "library": "var_list.r",
     "varRefreshCmd": "cat(var_dic_list()) "
    }
   },
   "types_to_exclude": [
    "module",
    "function",
    "builtin_function_or_method",
    "instance",
    "_Feature"
   ],
   "window_display": false
  },
  "vscode": {
   "interpreter": {
    "hash": "949777d72b0d2535278d3dc13498b2535136f6dfe0678499012e853ee9abcab1"
   }
  }
 },
 "nbformat": 4,
 "nbformat_minor": 4
}
