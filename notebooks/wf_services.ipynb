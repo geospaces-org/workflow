{
 "cells": [
  {
   "attachments": {},
   "cell_type": "markdown",
   "metadata": {},
   "source": [
    "# WF"
   ]
  },
  {
   "cell_type": "code",
   "execution_count": 34,
   "metadata": {},
   "outputs": [
    {
     "name": "stderr",
     "output_type": "stream",
     "text": [
      "2024-07-12 15:44:23,672 geoapp INFO: Testing logging\n"
     ]
    }
   ],
   "source": [
    "%reload_ext autoreload\n",
    "%autoreload 2\n",
    "import colabexts\n",
    "from colabexts.jcommon import *\n",
    "import xmltodict\n",
    "import colabexts.utils as colabexts_utils\n",
    "\n",
    "\n",
    "import os, sys, datetime, re, json, importlib\n",
    "from collections import defaultdict\n",
    "from sys import modules\n",
    "from IPython.display import HTML, Javascript\n",
    "import warnings\n",
    "import pandas as pd\n",
    "warnings.filterwarnings('ignore')\n",
    "\n",
    "%matplotlib inline\n",
    "pd.set_option('display.max_colwidth', 40)\n",
    "pd.set_option('display.max_rows', 16)\n",
    "\n",
    "import logging\n",
    "for handler in logging.root.handlers[:]: logging.root.removeHandler(handler)\n",
    "logging.basicConfig( level=logging.INFO,\n",
    "        format='%(asctime)s %(name)s %(levelname)s: %(message)s',\n",
    "        #handlers=[ logging.FileHandler(\"/tmp/stream.log\"), logging.StreamHandler()],\n",
    "        handlers=[ logging.StreamHandler()],\n",
    ")\n",
    "logger = logging.getLogger( \"geoapp\" )\n",
    "logger.info( f\"Testing logging\" )"
   ]
  },
  {
   "attachments": {},
   "cell_type": "markdown",
   "metadata": {},
   "source": [
    "# WF_services"
   ]
  },
  {
   "cell_type": "code",
   "execution_count": 51,
   "metadata": {
    "code_folding": [
     58,
     76
    ],
    "scrolled": false
   },
   "outputs": [
    {
     "name": "stdout",
     "output_type": "stream",
     "text": [
      "Overwriting ../wf_services.py\n"
     ]
    }
   ],
   "source": [
    "%%writefile ../wf_services.py\n",
    "#!/usr/bin/env python \n",
    "\n",
    "#*** DO NOT EDIT - GENERATED FROM tseries/notebooks/tseries_services.ipynb ****\n",
    "\n",
    "import sys, os,  glob, logging, datetime, json\n",
    "from  mangorest.mango import webapi\n",
    "from colabexts import utils as colabexts_utils\n",
    "import pandas as pd\n",
    "import xmltodict\n",
    "import colabexts.utils as colabexts_utils\n",
    "\n",
    "sys.path.append(\"../..\")\n",
    "\n",
    "MBASE  = \"/opt/data/data/workflows/\"\n",
    "logger = logging.getLogger( \"geoapp\" )\n",
    "\n",
    "#---------------------------------------------------------------------------------    \n",
    "@webapi(\"/wf/save_wf\")\n",
    "def save_wf( name, jsn, xml, **kwargs):\n",
    "    name = name or \"default\"\n",
    "    if (name.endswith(\".json\")):  name = name[:-5]\n",
    "    if (name.endswith(\".xml\")):   name = name[:-4]\n",
    "        \n",
    "    if not os.path.exists(MBASE ):\n",
    "        os.makedirs(MBASE)\n",
    "    \n",
    "    with open(f\"{MBASE}/{name}.xml\",  \"w\") as f:   f.write(xml.strip())\n",
    "    if ( len(jsn) < 30 ):\n",
    "        jsn = xmltodict.parse(xml,attr_prefix='', cdata_key='#text')\n",
    "        jsn = json.dumps(jsn, indent=4)\n",
    "\n",
    "    with open(f\"{MBASE}/{name}.json\", \"w\") as f:   f.write(jsn.strip())\n",
    "\n",
    "    return f\"Saved \"    \n",
    "#---------------------------------------------------------------------------------    \n",
    "@webapi(\"/wf/get_wf\")\n",
    "def get_wf( name, **kwargs):\n",
    "    if (name.endswith(\".json\")):  name = name[:-5]\n",
    "    if (name.endswith(\".xml\")):   name = name[:-4]\n",
    "\n",
    "    xml = open(f\"{MBASE}/{name}.xml\",  \"r\").read()\n",
    "    ret = dict(json=\"\", xml=xml)\n",
    "\n",
    "    return ret  \n",
    "#------------------------------------------------------------------------------\n",
    "@webapi(\"/wf/delete_wf\")\n",
    "def delete_wf(name=\"\", **kwargs):\n",
    "    if (name.endswith(\".json\")):  name = name[:-5]\n",
    "    if (name.endswith(\".xml\")):   name = name[:-4]\n",
    "\n",
    "    logger.info(f\"DELETE {name}\")\n",
    "    \n",
    "    dst = f\"{MBASE}/{name}.xml\"\n",
    "    if ( os.path.exists(dst) ):  os.remove(dst)\n",
    "\n",
    "    dst = f\"{MBASE}/{name}.json\"\n",
    "    if ( os.path.exists(dst) ):  os.remove(dst)\n",
    "\n",
    "    return f\"Deleted {dst}.\"\n",
    "#------------------------------------------------------------------------------\n",
    "@webapi(\"/wf/getall_wfs\")\n",
    "def getAllWorkflows( nrows=10000, patt='*.xml', **kwargs):\n",
    "    \n",
    "    files = glob.glob(f\"{MBASE}{patt}\")\n",
    "    files.sort(key=os.path.getmtime, reverse=True)\n",
    "\n",
    "    ret = {\n",
    "        \"name\": \"workflows\",\n",
    "        \"columns\": [\"name\"],\n",
    "        \"values\": [[f[len(MBASE):]] for f in files][0:nrows]\n",
    "    }\n",
    "    return ret\n",
    "#---------------------------------------------------------------------------------    \n",
    "@webapi(\"/wf/run_wf\")\n",
    "def run_wf( name, **kwargs):\n",
    "    if (name.endswith(\".json\")):  name = name[:-5]\n",
    "    if (name.endswith(\".xml\")):   name = name[:-4]\n",
    "\n",
    "    wfdef  = f\"/opt/data/data/workflows/{name}.xml\"\n",
    "    buf=open(wfdef,\"r\").read()\n",
    "    wf = xmltodict.parse(buf,attr_prefix='', cdata_key='#text')\n",
    "\n",
    "\n",
    "    wfsh=\"#Execute\\n\"\n",
    "    for c in wf['mxGraphModel']['root']['mxCell']:\n",
    "        w = colabexts_utils.Map(c)\n",
    "        s = w.text or \"\"\n",
    "        wfsh += f\"#Processing ID: {w.id}, Value: {w.value} => Cmd: {s}\\n\"\n",
    "        if (not s):\n",
    "            continue\n",
    "        wfsh += f\"{s}\\n\"\n",
    "\n",
    "    open(\"/tmp/run.sh\",\"w\").write(wfsh)\n",
    "\n",
    "    return f\"Running /tmp/run.sh {wfsh} \""
   ]
  },
  {
   "cell_type": "code",
   "execution_count": 108,
   "metadata": {},
   "outputs": [
    {
     "name": "stdout",
     "output_type": "stream",
     "text": [
      "#=> ID: 13, Value: S => Config: {'type': 'start', 'run': '10-20', 'nrun': 1, 'cmd': 'echo `date` > a.txt'}\n",
      "echo `date` > a.txt\n",
      "#=> ID: 2, Value: Start => Config: {'type': 'na|process|start', 'run': '[10,20]', 'nrun': 1, 'cmd': 'echo -- `date` >> a.txt'}\n",
      "echo -- `date` >> a.txt\n",
      "#=> ID: 11, Value: System Admin => Config: {'type': 'na|process|start', 'run': '[10,20]', 'nrun': 1}\n",
      "\n",
      "#=> ID: 5, Value: Send Email! OK => Config: {}\n",
      "\n",
      "#=> ID: 4, Value: Build Model! => Config: {'type': 'na|process|start', 'run': '[10,20]', 'nrun': 1, 'cmd': 'echo BUILD MODEL >> a.txt'}\n",
      "echo BUILD MODEL >> a.txt\n",
      "#=> ID: 3, Value: Process Data! => Config: {}\n",
      "\n",
      "#=> ID: 10, Value:  => Config: {'type': 'na|process|start', 'run': '[10,20]', 'nrun': 1, 'cmd': 'echo LAST EMA MODEL >> a.txt'}\n",
      "echo LAST EMA MODEL >> a.txt\n",
      "#Execute:\n",
      "\n"
     ]
    }
   ],
   "source": [
    "name='sada'\n",
    "wfdef  = f\"/opt/data/data/workflows/{name}.xml\"\n",
    "buf=open(wfdef,\"r\").read()\n",
    "wf = xmltodict.parse(buf,attr_prefix='', cdata_key='#text')\n",
    "\n",
    "\n",
    "#==================================================================================\n",
    "def startRunning(w):\n",
    "    if (w.state == 'running'):\n",
    "        print(\"CYCLE DETECTED\")\n",
    "        return \"\"\n",
    "    w.state = 'runnning'\n",
    "    ret=f\"#=> ID: {w.id}, Value: {w.value} => Config: {w.config}\\n{w.config.get('cmd','')}\"\n",
    "    print(ret)\n",
    "    for e in w.edges or []:\n",
    "        if ( e.target != w):\n",
    "            ret += startRunning(e.target)\n",
    "    return ret\n",
    "\n",
    "#==================================================================================\n",
    "nodes = {}\n",
    "for c in wf['mxGraphModel']['root']['mxCell']:\n",
    "    w = colabexts_utils.Map(c)\n",
    "    nodes[w.id] = w\n",
    "    w.state = 'init'\n",
    "    cfg = w.config or \"{}\"\n",
    "    try:\n",
    "        cfg = re.subn('//.*\\n', '\\n', cfg)[0]\n",
    "        cfg=colabexts_utils.parsej(cfg)\n",
    "        w.config = cfg\n",
    "    except:\n",
    "        w.config = {}\n",
    "        pass\n",
    "    if (not w.edge):\n",
    "        w['edges']  = []\n",
    "\n",
    "\n",
    "startNodes = []\n",
    "for k,w in nodes.items():\n",
    "    if (w.edge):\n",
    "       w['source']  = nodes[w['source']]\n",
    "       w['target']  = nodes[w['target']]\n",
    "       w['source']['edges'].append(w)\n",
    "       w['target']['edges'].append(w)\n",
    "    else:\n",
    "        typ = w['config'].get(\"type\", \"\")\n",
    "        if ( typ == 'start'):\n",
    "            startNodes.append(w)\n",
    "\n",
    "wfsh=\"#Execute:\\n\"\n",
    "if (len(startNodes) <=0):\n",
    "    print(\"NO START NODES\")\n",
    "else:\n",
    "    i = 0\n",
    "    for w in startNodes:\n",
    "        startRunning(w)\n",
    "\n",
    "print(wfsh)\n"
   ]
  },
  {
   "cell_type": "code",
   "execution_count": 101,
   "metadata": {},
   "outputs": [
    {
     "name": "stdout",
     "output_type": "stream",
     "text": [
      "0 {} []\n",
      "1 {} []\n",
      "2 {} [{'id': '12', 'value': '', 'style': 'strokeWidth=1;strokeColor=#808080;', 'parent': '1', 'source': {'id': '2', 'value': 'Start', 'style': 'fillColor=#d4e1f5;', 'parent': '1', 'vertex': '1', 'state': 'init', 'mxGeometry': {'x': '130', 'y': '100', 'width': '120', 'height': '40', 'as': 'geometry'}, 'config': {}, 'edges': [...]}, 'target': {'id': '11', 'value': 'System Admin', 'style': 'shape=actor;fillColor=#d4e1f5;', 'parent': '1', 'vertex': '1', 'text': 'Validate and Verify\\xa0Is Approved?SADA', 'state': 'init', 'mxGeometry': {'x': '410', 'y': '140', 'width': '30', 'height': '40', 'as': 'geometry'}, 'config': {}, 'edges': [{'id': '8', 'value': '', 'style': 'strokeWidth=1;strokeColor=#808080;', 'parent': '1', 'source': {...}, 'target': {'id': '5', 'value': 'Send Email! OK', 'style': 'fillColor=#d4e1f5;', 'parent': '1', 'vertex': '1', 'text': 'SADANNADA', 'state': 'init', 'mxGeometry': {'x': '730', 'y': '310', 'width': '120', 'height': '40', 'as': 'geometry'}, 'config': {}, 'edges': [{'id': '7', 'value': '', 'style': 'strokeWidth=1;strokeColor=#808080;', 'parent': '1', 'source': {...}, 'target': {'id': '4', 'value': 'Build Model!', 'style': 'fillColor=#f8cecc;', 'parent': '1', 'vertex': '1', 'state': 'init', 'mxGeometry': {'x': '650', 'y': '80', 'width': '120', 'height': '40', 'as': 'geometry'}, 'config': {}, 'edges': [{...}]}, 'edge': '1', 'state': 'init', 'mxGeometry': {'relative': '1', 'as': 'geometry', 'mxPoint': [{'x': '680', 'y': '260', 'as': 'sourcePoint'}, {'x': '680', 'y': '450', 'as': 'targetPoint'}]}, 'config': {}}, {...}, {'id': '17', 'style': 'strokeWidth=1;strokeColor=#808080;', 'parent': '1', 'source': {...}, 'target': {'id': '3', 'value': 'Process Data!', 'style': 'fillColor=#f8cecc;', 'parent': '1', 'vertex': '1', 'state': 'init', 'mxGeometry': {'x': '130', 'y': '280', 'width': '120', 'height': '40', 'as': 'geometry'}, 'config': {}, 'edges': [{...}]}, 'edge': '1', 'state': 'init', 'mxGeometry': {'relative': '1', 'as': 'geometry'}, 'config': {}}, {'id': '19', 'style': 'strokeWidth=1;strokeColor=#808080;', 'parent': '1', 'source': {...}, 'target': {'id': '10', 'style': 'fillColor=#f8cecc;', 'parent': '9', 'vertex': '1', 'state': 'init', 'mxGeometry': {'x': '60', 'y': '60', 'width': '100', 'height': '40', 'as': 'geometry'}, 'config': {}, 'edges': [{...}]}, 'edge': '1', 'state': 'init', 'mxGeometry': {'relative': '1', 'as': 'geometry'}, 'config': {}}]}, 'edge': '1', 'state': 'init', 'mxGeometry': {'relative': '1', 'as': 'geometry'}, 'config': {}}, {...}]}, 'edge': '1', 'state': 'init', 'mxGeometry': {'relative': '1', 'as': 'geometry', 'mxPoint': [{'x': '320', 'y': '150', 'as': 'sourcePoint'}, {'x': '730', 'y': '330', 'as': 'targetPoint'}]}, 'config': {}}, {'id': '14', 'style': 'strokeWidth=1;strokeColor=#808080;', 'parent': '1', 'source': {'id': '13', 'value': 'S', 'style': 'shape=ellipse;fillColor=#d4e1f5;', 'parent': '1', 'vertex': '1', 'text': 'START', 'config': {'type': 'start', 'run': '10-20', 'nrun': 1}, 'state': 'runnning', 'mxGeometry': {'y': '80', 'width': '40', 'height': '40', 'as': 'geometry'}, 'edges': [{...}]}, 'target': {'id': '2', 'value': 'Start', 'style': 'fillColor=#d4e1f5;', 'parent': '1', 'vertex': '1', 'state': 'init', 'mxGeometry': {'x': '130', 'y': '100', 'width': '120', 'height': '40', 'as': 'geometry'}, 'config': {}, 'edges': [...]}, 'edge': '1', 'state': 'runnning', 'mxGeometry': {'relative': '1', 'as': 'geometry', 'Array': {'as': 'points'}, 'mxPoint': [{'x': '50', 'y': '60', 'as': 'sourcePoint'}, {'x': '200', 'y': '120', 'as': 'targetPoint'}]}, 'config': {}}]\n",
      "3 {} [{'id': '17', 'style': 'strokeWidth=1;strokeColor=#808080;', 'parent': '1', 'source': {'id': '5', 'value': 'Send Email! OK', 'style': 'fillColor=#d4e1f5;', 'parent': '1', 'vertex': '1', 'text': 'SADANNADA', 'state': 'init', 'mxGeometry': {'x': '730', 'y': '310', 'width': '120', 'height': '40', 'as': 'geometry'}, 'config': {}, 'edges': [{'id': '7', 'value': '', 'style': 'strokeWidth=1;strokeColor=#808080;', 'parent': '1', 'source': {...}, 'target': {'id': '4', 'value': 'Build Model!', 'style': 'fillColor=#f8cecc;', 'parent': '1', 'vertex': '1', 'state': 'init', 'mxGeometry': {'x': '650', 'y': '80', 'width': '120', 'height': '40', 'as': 'geometry'}, 'config': {}, 'edges': [{...}]}, 'edge': '1', 'state': 'init', 'mxGeometry': {'relative': '1', 'as': 'geometry', 'mxPoint': [{'x': '680', 'y': '260', 'as': 'sourcePoint'}, {'x': '680', 'y': '450', 'as': 'targetPoint'}]}, 'config': {}}, {'id': '8', 'value': '', 'style': 'strokeWidth=1;strokeColor=#808080;', 'parent': '1', 'source': {'id': '11', 'value': 'System Admin', 'style': 'shape=actor;fillColor=#d4e1f5;', 'parent': '1', 'vertex': '1', 'text': 'Validate and Verify\\xa0Is Approved?SADA', 'state': 'init', 'mxGeometry': {'x': '410', 'y': '140', 'width': '30', 'height': '40', 'as': 'geometry'}, 'config': {}, 'edges': [{...}, {'id': '12', 'value': '', 'style': 'strokeWidth=1;strokeColor=#808080;', 'parent': '1', 'source': {'id': '2', 'value': 'Start', 'style': 'fillColor=#d4e1f5;', 'parent': '1', 'vertex': '1', 'state': 'init', 'mxGeometry': {'x': '130', 'y': '100', 'width': '120', 'height': '40', 'as': 'geometry'}, 'config': {}, 'edges': [{...}, {'id': '14', 'style': 'strokeWidth=1;strokeColor=#808080;', 'parent': '1', 'source': {'id': '13', 'value': 'S', 'style': 'shape=ellipse;fillColor=#d4e1f5;', 'parent': '1', 'vertex': '1', 'text': 'START', 'config': {'type': 'start', 'run': '10-20', 'nrun': 1}, 'state': 'runnning', 'mxGeometry': {'y': '80', 'width': '40', 'height': '40', 'as': 'geometry'}, 'edges': [{...}]}, 'target': {...}, 'edge': '1', 'state': 'runnning', 'mxGeometry': {'relative': '1', 'as': 'geometry', 'Array': {'as': 'points'}, 'mxPoint': [{'x': '50', 'y': '60', 'as': 'sourcePoint'}, {'x': '200', 'y': '120', 'as': 'targetPoint'}]}, 'config': {}}]}, 'target': {...}, 'edge': '1', 'state': 'init', 'mxGeometry': {'relative': '1', 'as': 'geometry', 'mxPoint': [{'x': '320', 'y': '150', 'as': 'sourcePoint'}, {'x': '730', 'y': '330', 'as': 'targetPoint'}]}, 'config': {}}]}, 'target': {...}, 'edge': '1', 'state': 'init', 'mxGeometry': {'relative': '1', 'as': 'geometry'}, 'config': {}}, {...}, {'id': '19', 'style': 'strokeWidth=1;strokeColor=#808080;', 'parent': '1', 'source': {...}, 'target': {'id': '10', 'style': 'fillColor=#f8cecc;', 'parent': '9', 'vertex': '1', 'state': 'init', 'mxGeometry': {'x': '60', 'y': '60', 'width': '100', 'height': '40', 'as': 'geometry'}, 'config': {}, 'edges': [{...}]}, 'edge': '1', 'state': 'init', 'mxGeometry': {'relative': '1', 'as': 'geometry'}, 'config': {}}]}, 'target': {'id': '3', 'value': 'Process Data!', 'style': 'fillColor=#f8cecc;', 'parent': '1', 'vertex': '1', 'state': 'init', 'mxGeometry': {'x': '130', 'y': '280', 'width': '120', 'height': '40', 'as': 'geometry'}, 'config': {}, 'edges': [...]}, 'edge': '1', 'state': 'init', 'mxGeometry': {'relative': '1', 'as': 'geometry'}, 'config': {}}]\n",
      "4 {} [{'id': '7', 'value': '', 'style': 'strokeWidth=1;strokeColor=#808080;', 'parent': '1', 'source': {'id': '5', 'value': 'Send Email! OK', 'style': 'fillColor=#d4e1f5;', 'parent': '1', 'vertex': '1', 'text': 'SADANNADA', 'state': 'init', 'mxGeometry': {'x': '730', 'y': '310', 'width': '120', 'height': '40', 'as': 'geometry'}, 'config': {}, 'edges': [{...}, {'id': '8', 'value': '', 'style': 'strokeWidth=1;strokeColor=#808080;', 'parent': '1', 'source': {'id': '11', 'value': 'System Admin', 'style': 'shape=actor;fillColor=#d4e1f5;', 'parent': '1', 'vertex': '1', 'text': 'Validate and Verify\\xa0Is Approved?SADA', 'state': 'init', 'mxGeometry': {'x': '410', 'y': '140', 'width': '30', 'height': '40', 'as': 'geometry'}, 'config': {}, 'edges': [{...}, {'id': '12', 'value': '', 'style': 'strokeWidth=1;strokeColor=#808080;', 'parent': '1', 'source': {'id': '2', 'value': 'Start', 'style': 'fillColor=#d4e1f5;', 'parent': '1', 'vertex': '1', 'state': 'init', 'mxGeometry': {'x': '130', 'y': '100', 'width': '120', 'height': '40', 'as': 'geometry'}, 'config': {}, 'edges': [{...}, {'id': '14', 'style': 'strokeWidth=1;strokeColor=#808080;', 'parent': '1', 'source': {'id': '13', 'value': 'S', 'style': 'shape=ellipse;fillColor=#d4e1f5;', 'parent': '1', 'vertex': '1', 'text': 'START', 'config': {'type': 'start', 'run': '10-20', 'nrun': 1}, 'state': 'runnning', 'mxGeometry': {'y': '80', 'width': '40', 'height': '40', 'as': 'geometry'}, 'edges': [{...}]}, 'target': {...}, 'edge': '1', 'state': 'runnning', 'mxGeometry': {'relative': '1', 'as': 'geometry', 'Array': {'as': 'points'}, 'mxPoint': [{'x': '50', 'y': '60', 'as': 'sourcePoint'}, {'x': '200', 'y': '120', 'as': 'targetPoint'}]}, 'config': {}}]}, 'target': {...}, 'edge': '1', 'state': 'init', 'mxGeometry': {'relative': '1', 'as': 'geometry', 'mxPoint': [{'x': '320', 'y': '150', 'as': 'sourcePoint'}, {'x': '730', 'y': '330', 'as': 'targetPoint'}]}, 'config': {}}]}, 'target': {...}, 'edge': '1', 'state': 'init', 'mxGeometry': {'relative': '1', 'as': 'geometry'}, 'config': {}}, {'id': '17', 'style': 'strokeWidth=1;strokeColor=#808080;', 'parent': '1', 'source': {...}, 'target': {'id': '3', 'value': 'Process Data!', 'style': 'fillColor=#f8cecc;', 'parent': '1', 'vertex': '1', 'state': 'init', 'mxGeometry': {'x': '130', 'y': '280', 'width': '120', 'height': '40', 'as': 'geometry'}, 'config': {}, 'edges': [{...}]}, 'edge': '1', 'state': 'init', 'mxGeometry': {'relative': '1', 'as': 'geometry'}, 'config': {}}, {'id': '19', 'style': 'strokeWidth=1;strokeColor=#808080;', 'parent': '1', 'source': {...}, 'target': {'id': '10', 'style': 'fillColor=#f8cecc;', 'parent': '9', 'vertex': '1', 'state': 'init', 'mxGeometry': {'x': '60', 'y': '60', 'width': '100', 'height': '40', 'as': 'geometry'}, 'config': {}, 'edges': [{...}]}, 'edge': '1', 'state': 'init', 'mxGeometry': {'relative': '1', 'as': 'geometry'}, 'config': {}}]}, 'target': {'id': '4', 'value': 'Build Model!', 'style': 'fillColor=#f8cecc;', 'parent': '1', 'vertex': '1', 'state': 'init', 'mxGeometry': {'x': '650', 'y': '80', 'width': '120', 'height': '40', 'as': 'geometry'}, 'config': {}, 'edges': [...]}, 'edge': '1', 'state': 'init', 'mxGeometry': {'relative': '1', 'as': 'geometry', 'mxPoint': [{'x': '680', 'y': '260', 'as': 'sourcePoint'}, {'x': '680', 'y': '450', 'as': 'targetPoint'}]}, 'config': {}}]\n",
      "5 {} [{'id': '7', 'value': '', 'style': 'strokeWidth=1;strokeColor=#808080;', 'parent': '1', 'source': {'id': '5', 'value': 'Send Email! OK', 'style': 'fillColor=#d4e1f5;', 'parent': '1', 'vertex': '1', 'text': 'SADANNADA', 'state': 'init', 'mxGeometry': {'x': '730', 'y': '310', 'width': '120', 'height': '40', 'as': 'geometry'}, 'config': {}, 'edges': [...]}, 'target': {'id': '4', 'value': 'Build Model!', 'style': 'fillColor=#f8cecc;', 'parent': '1', 'vertex': '1', 'state': 'init', 'mxGeometry': {'x': '650', 'y': '80', 'width': '120', 'height': '40', 'as': 'geometry'}, 'config': {}, 'edges': [{...}]}, 'edge': '1', 'state': 'init', 'mxGeometry': {'relative': '1', 'as': 'geometry', 'mxPoint': [{'x': '680', 'y': '260', 'as': 'sourcePoint'}, {'x': '680', 'y': '450', 'as': 'targetPoint'}]}, 'config': {}}, {'id': '8', 'value': '', 'style': 'strokeWidth=1;strokeColor=#808080;', 'parent': '1', 'source': {'id': '11', 'value': 'System Admin', 'style': 'shape=actor;fillColor=#d4e1f5;', 'parent': '1', 'vertex': '1', 'text': 'Validate and Verify\\xa0Is Approved?SADA', 'state': 'init', 'mxGeometry': {'x': '410', 'y': '140', 'width': '30', 'height': '40', 'as': 'geometry'}, 'config': {}, 'edges': [{...}, {'id': '12', 'value': '', 'style': 'strokeWidth=1;strokeColor=#808080;', 'parent': '1', 'source': {'id': '2', 'value': 'Start', 'style': 'fillColor=#d4e1f5;', 'parent': '1', 'vertex': '1', 'state': 'init', 'mxGeometry': {'x': '130', 'y': '100', 'width': '120', 'height': '40', 'as': 'geometry'}, 'config': {}, 'edges': [{...}, {'id': '14', 'style': 'strokeWidth=1;strokeColor=#808080;', 'parent': '1', 'source': {'id': '13', 'value': 'S', 'style': 'shape=ellipse;fillColor=#d4e1f5;', 'parent': '1', 'vertex': '1', 'text': 'START', 'config': {'type': 'start', 'run': '10-20', 'nrun': 1}, 'state': 'runnning', 'mxGeometry': {'y': '80', 'width': '40', 'height': '40', 'as': 'geometry'}, 'edges': [{...}]}, 'target': {...}, 'edge': '1', 'state': 'runnning', 'mxGeometry': {'relative': '1', 'as': 'geometry', 'Array': {'as': 'points'}, 'mxPoint': [{'x': '50', 'y': '60', 'as': 'sourcePoint'}, {'x': '200', 'y': '120', 'as': 'targetPoint'}]}, 'config': {}}]}, 'target': {...}, 'edge': '1', 'state': 'init', 'mxGeometry': {'relative': '1', 'as': 'geometry', 'mxPoint': [{'x': '320', 'y': '150', 'as': 'sourcePoint'}, {'x': '730', 'y': '330', 'as': 'targetPoint'}]}, 'config': {}}]}, 'target': {'id': '5', 'value': 'Send Email! OK', 'style': 'fillColor=#d4e1f5;', 'parent': '1', 'vertex': '1', 'text': 'SADANNADA', 'state': 'init', 'mxGeometry': {'x': '730', 'y': '310', 'width': '120', 'height': '40', 'as': 'geometry'}, 'config': {}, 'edges': [...]}, 'edge': '1', 'state': 'init', 'mxGeometry': {'relative': '1', 'as': 'geometry'}, 'config': {}}, {'id': '17', 'style': 'strokeWidth=1;strokeColor=#808080;', 'parent': '1', 'source': {'id': '5', 'value': 'Send Email! OK', 'style': 'fillColor=#d4e1f5;', 'parent': '1', 'vertex': '1', 'text': 'SADANNADA', 'state': 'init', 'mxGeometry': {'x': '730', 'y': '310', 'width': '120', 'height': '40', 'as': 'geometry'}, 'config': {}, 'edges': [...]}, 'target': {'id': '3', 'value': 'Process Data!', 'style': 'fillColor=#f8cecc;', 'parent': '1', 'vertex': '1', 'state': 'init', 'mxGeometry': {'x': '130', 'y': '280', 'width': '120', 'height': '40', 'as': 'geometry'}, 'config': {}, 'edges': [{...}]}, 'edge': '1', 'state': 'init', 'mxGeometry': {'relative': '1', 'as': 'geometry'}, 'config': {}}, {'id': '19', 'style': 'strokeWidth=1;strokeColor=#808080;', 'parent': '1', 'source': {'id': '5', 'value': 'Send Email! OK', 'style': 'fillColor=#d4e1f5;', 'parent': '1', 'vertex': '1', 'text': 'SADANNADA', 'state': 'init', 'mxGeometry': {'x': '730', 'y': '310', 'width': '120', 'height': '40', 'as': 'geometry'}, 'config': {}, 'edges': [...]}, 'target': {'id': '10', 'style': 'fillColor=#f8cecc;', 'parent': '9', 'vertex': '1', 'state': 'init', 'mxGeometry': {'x': '60', 'y': '60', 'width': '100', 'height': '40', 'as': 'geometry'}, 'config': {}, 'edges': [{...}]}, 'edge': '1', 'state': 'init', 'mxGeometry': {'relative': '1', 'as': 'geometry'}, 'config': {}}]\n",
      "7 {} None\n",
      "8 {} None\n",
      "9 {'type': 'na|process|start', 'run': '10-20', 'nrun': 1} []\n",
      "10 {} [{'id': '19', 'style': 'strokeWidth=1;strokeColor=#808080;', 'parent': '1', 'source': {'id': '5', 'value': 'Send Email! OK', 'style': 'fillColor=#d4e1f5;', 'parent': '1', 'vertex': '1', 'text': 'SADANNADA', 'state': 'init', 'mxGeometry': {'x': '730', 'y': '310', 'width': '120', 'height': '40', 'as': 'geometry'}, 'config': {}, 'edges': [{'id': '7', 'value': '', 'style': 'strokeWidth=1;strokeColor=#808080;', 'parent': '1', 'source': {...}, 'target': {'id': '4', 'value': 'Build Model!', 'style': 'fillColor=#f8cecc;', 'parent': '1', 'vertex': '1', 'state': 'init', 'mxGeometry': {'x': '650', 'y': '80', 'width': '120', 'height': '40', 'as': 'geometry'}, 'config': {}, 'edges': [{...}]}, 'edge': '1', 'state': 'init', 'mxGeometry': {'relative': '1', 'as': 'geometry', 'mxPoint': [{'x': '680', 'y': '260', 'as': 'sourcePoint'}, {'x': '680', 'y': '450', 'as': 'targetPoint'}]}, 'config': {}}, {'id': '8', 'value': '', 'style': 'strokeWidth=1;strokeColor=#808080;', 'parent': '1', 'source': {'id': '11', 'value': 'System Admin', 'style': 'shape=actor;fillColor=#d4e1f5;', 'parent': '1', 'vertex': '1', 'text': 'Validate and Verify\\xa0Is Approved?SADA', 'state': 'init', 'mxGeometry': {'x': '410', 'y': '140', 'width': '30', 'height': '40', 'as': 'geometry'}, 'config': {}, 'edges': [{...}, {'id': '12', 'value': '', 'style': 'strokeWidth=1;strokeColor=#808080;', 'parent': '1', 'source': {'id': '2', 'value': 'Start', 'style': 'fillColor=#d4e1f5;', 'parent': '1', 'vertex': '1', 'state': 'init', 'mxGeometry': {'x': '130', 'y': '100', 'width': '120', 'height': '40', 'as': 'geometry'}, 'config': {}, 'edges': [{...}, {'id': '14', 'style': 'strokeWidth=1;strokeColor=#808080;', 'parent': '1', 'source': {'id': '13', 'value': 'S', 'style': 'shape=ellipse;fillColor=#d4e1f5;', 'parent': '1', 'vertex': '1', 'text': 'START', 'config': {'type': 'start', 'run': '10-20', 'nrun': 1}, 'state': 'runnning', 'mxGeometry': {'y': '80', 'width': '40', 'height': '40', 'as': 'geometry'}, 'edges': [{...}]}, 'target': {...}, 'edge': '1', 'state': 'runnning', 'mxGeometry': {'relative': '1', 'as': 'geometry', 'Array': {'as': 'points'}, 'mxPoint': [{'x': '50', 'y': '60', 'as': 'sourcePoint'}, {'x': '200', 'y': '120', 'as': 'targetPoint'}]}, 'config': {}}]}, 'target': {...}, 'edge': '1', 'state': 'init', 'mxGeometry': {'relative': '1', 'as': 'geometry', 'mxPoint': [{'x': '320', 'y': '150', 'as': 'sourcePoint'}, {'x': '730', 'y': '330', 'as': 'targetPoint'}]}, 'config': {}}]}, 'target': {...}, 'edge': '1', 'state': 'init', 'mxGeometry': {'relative': '1', 'as': 'geometry'}, 'config': {}}, {'id': '17', 'style': 'strokeWidth=1;strokeColor=#808080;', 'parent': '1', 'source': {...}, 'target': {'id': '3', 'value': 'Process Data!', 'style': 'fillColor=#f8cecc;', 'parent': '1', 'vertex': '1', 'state': 'init', 'mxGeometry': {'x': '130', 'y': '280', 'width': '120', 'height': '40', 'as': 'geometry'}, 'config': {}, 'edges': [{...}]}, 'edge': '1', 'state': 'init', 'mxGeometry': {'relative': '1', 'as': 'geometry'}, 'config': {}}, {...}]}, 'target': {'id': '10', 'style': 'fillColor=#f8cecc;', 'parent': '9', 'vertex': '1', 'state': 'init', 'mxGeometry': {'x': '60', 'y': '60', 'width': '100', 'height': '40', 'as': 'geometry'}, 'config': {}, 'edges': [...]}, 'edge': '1', 'state': 'init', 'mxGeometry': {'relative': '1', 'as': 'geometry'}, 'config': {}}]\n",
      "11 {} [{'id': '8', 'value': '', 'style': 'strokeWidth=1;strokeColor=#808080;', 'parent': '1', 'source': {'id': '11', 'value': 'System Admin', 'style': 'shape=actor;fillColor=#d4e1f5;', 'parent': '1', 'vertex': '1', 'text': 'Validate and Verify\\xa0Is Approved?SADA', 'state': 'init', 'mxGeometry': {'x': '410', 'y': '140', 'width': '30', 'height': '40', 'as': 'geometry'}, 'config': {}, 'edges': [...]}, 'target': {'id': '5', 'value': 'Send Email! OK', 'style': 'fillColor=#d4e1f5;', 'parent': '1', 'vertex': '1', 'text': 'SADANNADA', 'state': 'init', 'mxGeometry': {'x': '730', 'y': '310', 'width': '120', 'height': '40', 'as': 'geometry'}, 'config': {}, 'edges': [{'id': '7', 'value': '', 'style': 'strokeWidth=1;strokeColor=#808080;', 'parent': '1', 'source': {...}, 'target': {'id': '4', 'value': 'Build Model!', 'style': 'fillColor=#f8cecc;', 'parent': '1', 'vertex': '1', 'state': 'init', 'mxGeometry': {'x': '650', 'y': '80', 'width': '120', 'height': '40', 'as': 'geometry'}, 'config': {}, 'edges': [{...}]}, 'edge': '1', 'state': 'init', 'mxGeometry': {'relative': '1', 'as': 'geometry', 'mxPoint': [{'x': '680', 'y': '260', 'as': 'sourcePoint'}, {'x': '680', 'y': '450', 'as': 'targetPoint'}]}, 'config': {}}, {...}, {'id': '17', 'style': 'strokeWidth=1;strokeColor=#808080;', 'parent': '1', 'source': {...}, 'target': {'id': '3', 'value': 'Process Data!', 'style': 'fillColor=#f8cecc;', 'parent': '1', 'vertex': '1', 'state': 'init', 'mxGeometry': {'x': '130', 'y': '280', 'width': '120', 'height': '40', 'as': 'geometry'}, 'config': {}, 'edges': [{...}]}, 'edge': '1', 'state': 'init', 'mxGeometry': {'relative': '1', 'as': 'geometry'}, 'config': {}}, {'id': '19', 'style': 'strokeWidth=1;strokeColor=#808080;', 'parent': '1', 'source': {...}, 'target': {'id': '10', 'style': 'fillColor=#f8cecc;', 'parent': '9', 'vertex': '1', 'state': 'init', 'mxGeometry': {'x': '60', 'y': '60', 'width': '100', 'height': '40', 'as': 'geometry'}, 'config': {}, 'edges': [{...}]}, 'edge': '1', 'state': 'init', 'mxGeometry': {'relative': '1', 'as': 'geometry'}, 'config': {}}]}, 'edge': '1', 'state': 'init', 'mxGeometry': {'relative': '1', 'as': 'geometry'}, 'config': {}}, {'id': '12', 'value': '', 'style': 'strokeWidth=1;strokeColor=#808080;', 'parent': '1', 'source': {'id': '2', 'value': 'Start', 'style': 'fillColor=#d4e1f5;', 'parent': '1', 'vertex': '1', 'state': 'init', 'mxGeometry': {'x': '130', 'y': '100', 'width': '120', 'height': '40', 'as': 'geometry'}, 'config': {}, 'edges': [{...}, {'id': '14', 'style': 'strokeWidth=1;strokeColor=#808080;', 'parent': '1', 'source': {'id': '13', 'value': 'S', 'style': 'shape=ellipse;fillColor=#d4e1f5;', 'parent': '1', 'vertex': '1', 'text': 'START', 'config': {'type': 'start', 'run': '10-20', 'nrun': 1}, 'state': 'runnning', 'mxGeometry': {'y': '80', 'width': '40', 'height': '40', 'as': 'geometry'}, 'edges': [{...}]}, 'target': {...}, 'edge': '1', 'state': 'runnning', 'mxGeometry': {'relative': '1', 'as': 'geometry', 'Array': {'as': 'points'}, 'mxPoint': [{'x': '50', 'y': '60', 'as': 'sourcePoint'}, {'x': '200', 'y': '120', 'as': 'targetPoint'}]}, 'config': {}}]}, 'target': {'id': '11', 'value': 'System Admin', 'style': 'shape=actor;fillColor=#d4e1f5;', 'parent': '1', 'vertex': '1', 'text': 'Validate and Verify\\xa0Is Approved?SADA', 'state': 'init', 'mxGeometry': {'x': '410', 'y': '140', 'width': '30', 'height': '40', 'as': 'geometry'}, 'config': {}, 'edges': [...]}, 'edge': '1', 'state': 'init', 'mxGeometry': {'relative': '1', 'as': 'geometry', 'mxPoint': [{'x': '320', 'y': '150', 'as': 'sourcePoint'}, {'x': '730', 'y': '330', 'as': 'targetPoint'}]}, 'config': {}}]\n",
      "12 {} None\n",
      "13 {'type': 'start', 'run': '10-20', 'nrun': 1} [{'id': '14', 'style': 'strokeWidth=1;strokeColor=#808080;', 'parent': '1', 'source': {'id': '13', 'value': 'S', 'style': 'shape=ellipse;fillColor=#d4e1f5;', 'parent': '1', 'vertex': '1', 'text': 'START', 'config': {'type': 'start', 'run': '10-20', 'nrun': 1}, 'state': 'runnning', 'mxGeometry': {'y': '80', 'width': '40', 'height': '40', 'as': 'geometry'}, 'edges': [...]}, 'target': {'id': '2', 'value': 'Start', 'style': 'fillColor=#d4e1f5;', 'parent': '1', 'vertex': '1', 'state': 'init', 'mxGeometry': {'x': '130', 'y': '100', 'width': '120', 'height': '40', 'as': 'geometry'}, 'config': {}, 'edges': [{'id': '12', 'value': '', 'style': 'strokeWidth=1;strokeColor=#808080;', 'parent': '1', 'source': {...}, 'target': {'id': '11', 'value': 'System Admin', 'style': 'shape=actor;fillColor=#d4e1f5;', 'parent': '1', 'vertex': '1', 'text': 'Validate and Verify\\xa0Is Approved?SADA', 'state': 'init', 'mxGeometry': {'x': '410', 'y': '140', 'width': '30', 'height': '40', 'as': 'geometry'}, 'config': {}, 'edges': [{'id': '8', 'value': '', 'style': 'strokeWidth=1;strokeColor=#808080;', 'parent': '1', 'source': {...}, 'target': {'id': '5', 'value': 'Send Email! OK', 'style': 'fillColor=#d4e1f5;', 'parent': '1', 'vertex': '1', 'text': 'SADANNADA', 'state': 'init', 'mxGeometry': {'x': '730', 'y': '310', 'width': '120', 'height': '40', 'as': 'geometry'}, 'config': {}, 'edges': [{'id': '7', 'value': '', 'style': 'strokeWidth=1;strokeColor=#808080;', 'parent': '1', 'source': {...}, 'target': {'id': '4', 'value': 'Build Model!', 'style': 'fillColor=#f8cecc;', 'parent': '1', 'vertex': '1', 'state': 'init', 'mxGeometry': {'x': '650', 'y': '80', 'width': '120', 'height': '40', 'as': 'geometry'}, 'config': {}, 'edges': [{...}]}, 'edge': '1', 'state': 'init', 'mxGeometry': {'relative': '1', 'as': 'geometry', 'mxPoint': [{'x': '680', 'y': '260', 'as': 'sourcePoint'}, {'x': '680', 'y': '450', 'as': 'targetPoint'}]}, 'config': {}}, {...}, {'id': '17', 'style': 'strokeWidth=1;strokeColor=#808080;', 'parent': '1', 'source': {...}, 'target': {'id': '3', 'value': 'Process Data!', 'style': 'fillColor=#f8cecc;', 'parent': '1', 'vertex': '1', 'state': 'init', 'mxGeometry': {'x': '130', 'y': '280', 'width': '120', 'height': '40', 'as': 'geometry'}, 'config': {}, 'edges': [{...}]}, 'edge': '1', 'state': 'init', 'mxGeometry': {'relative': '1', 'as': 'geometry'}, 'config': {}}, {'id': '19', 'style': 'strokeWidth=1;strokeColor=#808080;', 'parent': '1', 'source': {...}, 'target': {'id': '10', 'style': 'fillColor=#f8cecc;', 'parent': '9', 'vertex': '1', 'state': 'init', 'mxGeometry': {'x': '60', 'y': '60', 'width': '100', 'height': '40', 'as': 'geometry'}, 'config': {}, 'edges': [{...}]}, 'edge': '1', 'state': 'init', 'mxGeometry': {'relative': '1', 'as': 'geometry'}, 'config': {}}]}, 'edge': '1', 'state': 'init', 'mxGeometry': {'relative': '1', 'as': 'geometry'}, 'config': {}}, {...}]}, 'edge': '1', 'state': 'init', 'mxGeometry': {'relative': '1', 'as': 'geometry', 'mxPoint': [{'x': '320', 'y': '150', 'as': 'sourcePoint'}, {'x': '730', 'y': '330', 'as': 'targetPoint'}]}, 'config': {}}, {...}]}, 'edge': '1', 'state': 'runnning', 'mxGeometry': {'relative': '1', 'as': 'geometry', 'Array': {'as': 'points'}, 'mxPoint': [{'x': '50', 'y': '60', 'as': 'sourcePoint'}, {'x': '200', 'y': '120', 'as': 'targetPoint'}]}, 'config': {}}]\n",
      "14 {} None\n",
      "17 {} None\n",
      "19 {} None\n"
     ]
    }
   ],
   "source": [
    "for k,w in nodes.items():\n",
    "    print(w.id, w.config, w.edges)"
   ]
  },
  {
   "cell_type": "code",
   "execution_count": 82,
   "metadata": {},
   "outputs": [
    {
     "data": {
      "text/plain": [
       "{'type': 'na|process|start', 'run': '10-20', 'nrun': 1}"
      ]
     },
     "execution_count": 82,
     "metadata": {},
     "output_type": "execute_result"
    }
   ],
   "source": []
  },
  {
   "cell_type": "code",
   "execution_count": 75,
   "metadata": {},
   "outputs": [
    {
     "data": {
      "text/plain": [
       "(\"{\\n  type: 'na|process|start', \\n start\\n  run :  '10-20',  \\n run time(secs)\\n  nrun: 1         \\n can run ntimes\\n}\",\n",
       " 0)"
      ]
     },
     "execution_count": 75,
     "metadata": {},
     "output_type": "execute_result"
    }
   ],
   "source": []
  },
  {
   "cell_type": "code",
   "execution_count": null,
   "metadata": {},
   "outputs": [],
   "source": []
  }
 ],
 "metadata": {
  "hide_input": false,
  "kernelspec": {
   "display_name": "Python 3 (ipykernel)",
   "language": "python",
   "name": "python3"
  },
  "language_info": {
   "codemirror_mode": {
    "name": "ipython",
    "version": 3
   },
   "file_extension": ".py",
   "mimetype": "text/x-python",
   "name": "python",
   "nbconvert_exporter": "python",
   "pygments_lexer": "ipython3",
   "version": "3.11.9"
  },
  "toc": {
   "base_numbering": 1,
   "nav_menu": {},
   "number_sections": true,
   "sideBar": true,
   "skip_h1_title": false,
   "title_cell": "Table of Contents",
   "title_sidebar": "Contents",
   "toc_cell": false,
   "toc_position": {},
   "toc_section_display": true,
   "toc_window_display": false
  },
  "varInspector": {
   "cols": {
    "lenName": 16,
    "lenType": 16,
    "lenVar": 40
   },
   "kernels_config": {
    "python": {
     "delete_cmd_postfix": "",
     "delete_cmd_prefix": "del ",
     "library": "var_list.py",
     "varRefreshCmd": "print(var_dic_list())"
    },
    "r": {
     "delete_cmd_postfix": ") ",
     "delete_cmd_prefix": "rm(",
     "library": "var_list.r",
     "varRefreshCmd": "cat(var_dic_list()) "
    }
   },
   "types_to_exclude": [
    "module",
    "function",
    "builtin_function_or_method",
    "instance",
    "_Feature"
   ],
   "window_display": false
  },
  "vscode": {
   "interpreter": {
    "hash": "949777d72b0d2535278d3dc13498b2535136f6dfe0678499012e853ee9abcab1"
   }
  }
 },
 "nbformat": 4,
 "nbformat_minor": 4
}
